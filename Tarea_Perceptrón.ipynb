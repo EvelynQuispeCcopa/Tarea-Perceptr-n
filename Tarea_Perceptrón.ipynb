{
  "nbformat": 4,
  "nbformat_minor": 0,
  "metadata": {
    "colab": {
      "provenance": []
    },
    "kernelspec": {
      "name": "python3",
      "display_name": "Python 3"
    },
    "language_info": {
      "name": "python"
    }
  },
  "cells": [
    {
      "cell_type": "code",
      "execution_count": null,
      "metadata": {
        "id": "PwKdMfe4KjJC"
      },
      "outputs": [],
      "source": []
    },
    {
      "cell_type": "code",
      "source": [
        "import numpy as np"
      ],
      "metadata": {
        "id": "eZ_eUAY1Kl2Y"
      },
      "execution_count": null,
      "outputs": []
    },
    {
      "cell_type": "code",
      "source": [
        "X = np.array([[0, 1], [1, 0], [1, 1], [0, 0]])\n",
        "D = np.array([1, 1, 0, 0])\n",
        "# Salidas deseadas para cada entrada"
      ],
      "metadata": {
        "id": "4BE19YUZLad_"
      },
      "execution_count": null,
      "outputs": []
    },
    {
      "cell_type": "code",
      "source": [
        "n = X.shape[1]"
      ],
      "metadata": {
        "id": "6zz2e2SILdmV"
      },
      "execution_count": null,
      "outputs": []
    },
    {
      "cell_type": "code",
      "source": [
        "a = 0.1  # Coeficiente de aprendizaje\n",
        "max_epochs = 1000\n",
        "theta = np.random.uniform(-1, 1)  # Inicializar el umbral θ\n",
        "W = np.random.uniform(-1, 1, size=(n,))  # Inicializar los pesos W\n"
      ],
      "metadata": {
        "id": "sSpBWyvILf-V"
      },
      "execution_count": null,
      "outputs": []
    },
    {
      "cell_type": "code",
      "source": [
        "# Función de activación (función escalón)\n",
        "def f(x):\n",
        "    return 1 if x >= 0 else 0"
      ],
      "metadata": {
        "id": "zBujQyrgLmAo"
      },
      "execution_count": null,
      "outputs": []
    },
    {
      "cell_type": "code",
      "source": [
        "def entrenar_perceptron(X, D):\n",
        "    global W, theta\n",
        "    for epoch in range(max_epochs):\n",
        "        for x, d in zip(X, D):\n",
        "            #Propagar\n",
        "            y = f(np.dot(x, W) - theta)\n",
        "            #Calcular el error\n",
        "            Error = d - y\n",
        "            #Retropropagar\n",
        "            W = W + a * Error * x\n",
        "            theta = theta - a * Error\n",
        "\n",
        "    print(\"Entrenamiento completado.\")\n",
        "    print(\"Pesos finales (W):\", W)\n",
        "    print(\"Umbral final (θ):\", theta)"
      ],
      "metadata": {
        "id": "bZp_Bk6CNy6L"
      },
      "execution_count": null,
      "outputs": []
    },
    {
      "cell_type": "code",
      "source": [
        "entrenar_perceptron(X, D)"
      ],
      "metadata": {
        "colab": {
          "base_uri": "https://localhost:8080/"
        },
        "id": "6SkuYrbrLqec",
        "outputId": "4deb7551-bcb0-4913-a689-b088250b75f3"
      },
      "execution_count": null,
      "outputs": [
        {
          "output_type": "stream",
          "name": "stdout",
          "text": [
            "Entrenamiento completado.\n",
            "Pesos finales (W): [-0.19371652 -0.05486241]\n",
            "Umbral final (θ): 0.03242975598346762\n"
          ]
        }
      ]
    },
    {
      "cell_type": "code",
      "source": [],
      "metadata": {
        "id": "DiuGH6z7OYPq"
      },
      "execution_count": null,
      "outputs": []
    }
  ]
}